{
 "cells": [
  {
   "cell_type": "markdown",
   "metadata": {
    "deletable": false,
    "editable": false,
    "nbgrader": {
     "cell_type": "markdown",
     "checksum": "5889db70b2349a140dbd7d216dbfbabd",
     "grade": false,
     "grade_id": "jupyter",
     "locked": true,
     "schema_version": 3,
     "solution": false
    }
   },
   "source": [
    "# Assignment: pandas0 \n",
    "For this problem set, we'll be using a Jupyter notebook. \n",
    "\n",
    "**Few Important Things:**\n",
    " - **Save this file as** geo0_emailuser_attempt#_assignment (e.g. geo0_mmann1123_attempt0_pandas0.ipynb)\n",
    " - Before submitting make sure to go to Cell > Run All and confirm there are no errors thrown.\n",
    " - If you can't figure something out, that is ok, do your best and share it\n",
    "\n",
    "\n",
    "For more detailed instructions please refer to [https://mmann1123.github.io/GEOG6308/](https://mmann1123.github.io/GEOG6308/)"
   ]
  },
  {
   "cell_type": "markdown",
   "metadata": {
    "deletable": false,
    "editable": false,
    "nbgrader": {
     "cell_type": "markdown",
     "checksum": "73a9d9519a57cf05f164e325c85fee00",
     "grade": false,
     "grade_id": "cell-43f0845de8101153",
     "locked": true,
     "schema_version": 3,
     "solution": false,
     "task": false
    },
    "tags": []
   },
   "source": [
    "---\n",
    "## Part A (1 points)\n",
    "All submissions for your homework need to have the *proper file names*. Please rename this file using the convension discussed above. For instance if my gwu email is mmann1123@gwu.edu, this file should be renamed `geo0_mmann1123_attempt0_Pandas0.ipynb`.\n",
    "\n",
    "Please do this now, and remember to complete this step for each assignment. "
   ]
  },
  {
   "cell_type": "code",
   "execution_count": 33,
   "metadata": {
    "deletable": false,
    "editable": false,
    "nbgrader": {
     "cell_type": "code",
     "checksum": "4b362a2e721d75c4da6da92d54e3b968",
     "grade": true,
     "grade_id": "cell-fcc4a52db86cb408",
     "locked": true,
     "points": 1,
     "schema_version": 3,
     "solution": false,
     "task": false
    },
    "tags": []
   },
   "outputs": [],
   "source": [
    "# \"\"\"Check for the existance of proper file name\"\"\"\n",
    "from glob import glob\n",
    "\n",
    "# try:\n",
    "#assert len(glob('geo0_*_attempt*_Pandas0.ipynb'))==1\n",
    " #   except AssertionError:\n",
    " #   raise AssertionError(\"Check your file naming convension\")"
   ]
  },
  {
   "cell_type": "markdown",
   "metadata": {
    "deletable": false,
    "editable": false,
    "nbgrader": {
     "cell_type": "markdown",
     "checksum": "c21872d4001eee33cc0f9b169afd5301",
     "grade": false,
     "grade_id": "cell-5a253ea4d41d4872",
     "locked": true,
     "schema_version": 3,
     "solution": false,
     "task": false
    }
   },
   "source": [
    "----------------------------------------------\n",
    "## Part B (12 points)\n",
    "\n",
    "For this section we will be using data on health expenditure and life expectancy for a handful of countries. Please fill in your answer were prompted. Ideally your answers should be able to pass all the assertion tests without any errors. Please read the error messages, as they provide clues to what you did wrong. "
   ]
  },
  {
   "cell_type": "code",
   "execution_count": 34,
   "metadata": {
    "deletable": false,
    "editable": false,
    "nbgrader": {
     "cell_type": "code",
     "checksum": "3ce6009a0f9ae5f30a53811e29fa57b4",
     "grade": false,
     "grade_id": "cell-bb7a6c649b777187",
     "locked": true,
     "schema_version": 3,
     "solution": false,
     "task": false
    }
   },
   "outputs": [],
   "source": [
    "import pandas as pd\n",
    "\n",
    "health_exp = pd.read_csv(r'/Users/maryanashnitser/Desktop/42592915.csv')\n",
    "health_exp.head()\n",
    "health_exp = health_exp.drop('Unnamed: 0', axis =1)\n"
   ]
  },
  {
   "cell_type": "markdown",
   "metadata": {
    "deletable": false,
    "editable": false,
    "nbgrader": {
     "cell_type": "markdown",
     "checksum": "9a90719193ef7c2c9ab3497d4aecda0e",
     "grade": false,
     "grade_id": "cell-bd243a4ec6e6b6fa",
     "locked": true,
     "schema_version": 3,
     "solution": false,
     "task": false
    }
   },
   "source": [
    "### B Task 1\n",
    "Using `.unique()` to get the unique country names from `health_exp` and store them in a variable called `countries`."
   ]
  },
  {
   "cell_type": "code",
   "execution_count": 35,
   "metadata": {
    "deletable": false,
    "nbgrader": {
     "cell_type": "code",
     "checksum": "76a07cab83eff8e49ae8864ddd4d460e",
     "grade": false,
     "grade_id": "cell-2ae38591238c6944",
     "locked": false,
     "schema_version": 3,
     "solution": true,
     "task": false
    }
   },
   "outputs": [],
   "source": [
    "# YOUR CODE HERE\n",
    "countries = health_exp['Country'].unique()"
   ]
  },
  {
   "cell_type": "code",
   "execution_count": 36,
   "metadata": {
    "deletable": false,
    "editable": false,
    "nbgrader": {
     "cell_type": "code",
     "checksum": "dbd6c4744815542c4a61565ff4cd52b3",
     "grade": false,
     "grade_id": "cell-def1c02f5fa186ba",
     "locked": true,
     "schema_version": 3,
     "solution": false,
     "task": false
    }
   },
   "outputs": [
    {
     "data": {
      "text/plain": [
       "array(['Germany', 'France', 'Great Britain', 'Japan', 'USA', 'Canada'],\n",
       "      dtype=object)"
      ]
     },
     "execution_count": 36,
     "metadata": {},
     "output_type": "execute_result"
    }
   ],
   "source": [
    "countries"
   ]
  },
  {
   "cell_type": "code",
   "execution_count": 37,
   "metadata": {
    "deletable": false,
    "editable": false,
    "nbgrader": {
     "cell_type": "code",
     "checksum": "cf498cff58791b44ca04d7d7f1a56c1a",
     "grade": false,
     "grade_id": "cell-4066d13d41340be5",
     "locked": true,
     "schema_version": 3,
     "solution": false,
     "task": false
    }
   },
   "outputs": [],
   "source": [
    "\"\"\"Run the following: you should get no errors\"\"\"\n",
    "import numpy as np\n",
    "\n",
    "try:\n",
    "    assert len(countries)==6\n",
    "except AssertionError:\n",
    "    raise AssertionError(\"Check your code countries should only have unique countries\")\n"
   ]
  },
  {
   "cell_type": "code",
   "execution_count": 38,
   "metadata": {
    "deletable": false,
    "editable": false,
    "nbgrader": {
     "cell_type": "code",
     "checksum": "98edcbad41fbc57216446911033445e3",
     "grade": true,
     "grade_id": "cell-9705ae19a78a181e",
     "locked": true,
     "points": 1,
     "schema_version": 3,
     "solution": false,
     "task": false
    }
   },
   "outputs": [
    {
     "data": {
      "text/plain": [
       "'Run the following hidden tests: you should get no errors'"
      ]
     },
     "execution_count": 38,
     "metadata": {},
     "output_type": "execute_result"
    }
   ],
   "source": [
    "\"\"\"Run the following hidden tests: you should get no errors\"\"\"\n"
   ]
  },
  {
   "cell_type": "code",
   "execution_count": 39,
   "metadata": {
    "deletable": false,
    "editable": false,
    "nbgrader": {
     "cell_type": "code",
     "checksum": "a801b08633b34c119fe0bd1bf8268b97",
     "grade": false,
     "grade_id": "cell-054d43e6dab12e11",
     "locked": true,
     "schema_version": 3,
     "solution": false,
     "task": false
    }
   },
   "outputs": [],
   "source": [
    "\"\"\"Run the following: you should get no errors\"\"\"\n",
    "try:\n",
    "    assert type(countries) == np.ndarray\n",
    "except AssertionError:\n",
    "    raise AssertionError(\"Make sure you are storing the output of .unique() which returns a numpy array \")\n"
   ]
  },
  {
   "cell_type": "code",
   "execution_count": 40,
   "metadata": {
    "deletable": false,
    "editable": false,
    "nbgrader": {
     "cell_type": "code",
     "checksum": "29d05b363113e1531338fc4c8b5654a0",
     "grade": true,
     "grade_id": "cell-fb96b6f464539551",
     "locked": true,
     "points": 1,
     "schema_version": 3,
     "solution": false,
     "task": false
    }
   },
   "outputs": [
    {
     "data": {
      "text/plain": [
       "'Run the following hidden tests: you should get no errors'"
      ]
     },
     "execution_count": 40,
     "metadata": {},
     "output_type": "execute_result"
    }
   ],
   "source": [
    "\"\"\"Run the following hidden tests: you should get no errors\"\"\"\n"
   ]
  },
  {
   "cell_type": "code",
   "execution_count": 41,
   "metadata": {
    "deletable": false,
    "editable": false,
    "nbgrader": {
     "cell_type": "code",
     "checksum": "4a58db33e2488e666f6df7cb0380fc3b",
     "grade": true,
     "grade_id": "cell-7f92d3678bd8442f",
     "locked": true,
     "points": 1,
     "schema_version": 3,
     "solution": false,
     "task": false
    }
   },
   "outputs": [
    {
     "data": {
      "text/plain": [
       "'Run the following hidden tests: you should get no errors'"
      ]
     },
     "execution_count": 41,
     "metadata": {},
     "output_type": "execute_result"
    }
   ],
   "source": [
    "\"\"\"Run the following hidden tests: you should get no errors\"\"\"\n",
    "\n"
   ]
  },
  {
   "cell_type": "markdown",
   "metadata": {
    "deletable": false,
    "editable": false,
    "nbgrader": {
     "cell_type": "markdown",
     "checksum": "6261db276db15973dc8cad261cecd657",
     "grade": false,
     "grade_id": "cell-7e849608f5789783",
     "locked": true,
     "schema_version": 3,
     "solution": false,
     "task": false
    },
    "tags": [
     "parameters"
    ]
   },
   "source": [
    "### B Task 2\n",
    "\n",
    "Using `.loc`, select the rows where the country is \"United States\" and the year is 1985. Assign the result to a variable called `us_1985`."
   ]
  },
  {
   "cell_type": "code",
   "execution_count": 42,
   "metadata": {
    "deletable": false,
    "nbgrader": {
     "cell_type": "code",
     "checksum": "74e418fb84526032ad0f7baacd4c2cdd",
     "grade": false,
     "grade_id": "cell-2621bbfe94b5111d",
     "locked": false,
     "schema_version": 3,
     "solution": true,
     "task": false
    }
   },
   "outputs": [],
   "source": [
    "\n",
    "# YOUR CODE HERE\n",
    "us_1985 = health_exp.loc[((health_exp['Country'] == 'USA') & (health_exp['Year'] == 1985)), ['Year','Country', 'Spending_USD', 'Life_Expectancy']]"
   ]
  },
  {
   "cell_type": "code",
   "execution_count": 43,
   "metadata": {
    "deletable": false,
    "editable": false,
    "nbgrader": {
     "cell_type": "code",
     "checksum": "153880aa7e50583544a2c95597375c39",
     "grade": false,
     "grade_id": "cell-934cc72fd575e9d1",
     "locked": true,
     "schema_version": 3,
     "solution": false,
     "task": false
    }
   },
   "outputs": [
    {
     "data": {
      "text/html": [
       "<div>\n",
       "<style scoped>\n",
       "    .dataframe tbody tr th:only-of-type {\n",
       "        vertical-align: middle;\n",
       "    }\n",
       "\n",
       "    .dataframe tbody tr th {\n",
       "        vertical-align: top;\n",
       "    }\n",
       "\n",
       "    .dataframe thead th {\n",
       "        text-align: right;\n",
       "    }\n",
       "</style>\n",
       "<table border=\"1\" class=\"dataframe\">\n",
       "  <thead>\n",
       "    <tr style=\"text-align: right;\">\n",
       "      <th></th>\n",
       "      <th>Year</th>\n",
       "      <th>Country</th>\n",
       "      <th>Spending_USD</th>\n",
       "      <th>Life_Expectancy</th>\n",
       "    </tr>\n",
       "  </thead>\n",
       "  <tbody>\n",
       "    <tr>\n",
       "      <th>68</th>\n",
       "      <td>1985</td>\n",
       "      <td>USA</td>\n",
       "      <td>1735.156</td>\n",
       "      <td>74.7</td>\n",
       "    </tr>\n",
       "  </tbody>\n",
       "</table>\n",
       "</div>"
      ],
      "text/plain": [
       "    Year Country  Spending_USD  Life_Expectancy\n",
       "68  1985     USA      1735.156             74.7"
      ]
     },
     "execution_count": 43,
     "metadata": {},
     "output_type": "execute_result"
    }
   ],
   "source": [
    "us_1985"
   ]
  },
  {
   "cell_type": "code",
   "execution_count": 44,
   "metadata": {
    "deletable": false,
    "editable": false,
    "nbgrader": {
     "cell_type": "code",
     "checksum": "824d38f5912351c62223f7dd79670301",
     "grade": false,
     "grade_id": "cell-18353e4bff628a65",
     "locked": true,
     "schema_version": 3,
     "solution": false,
     "task": false
    }
   },
   "outputs": [],
   "source": [
    "\"\"\"Run the following: you should get no errors\"\"\"\n",
    "try:\n",
    "    assert (us_1985.shape == (1, 4)) & (type(us_1985) == pd.core.frame.DataFrame)\n",
    "except AssertionError:\n",
    "    raise AssertionError(\"us_1985 should be a dataframe of size 1x4\")"
   ]
  },
  {
   "cell_type": "code",
   "execution_count": 45,
   "metadata": {
    "deletable": false,
    "editable": false,
    "nbgrader": {
     "cell_type": "code",
     "checksum": "984916ecd4cdee40063580df7c56c391",
     "grade": true,
     "grade_id": "cell-4d0100c776952ffb",
     "locked": true,
     "points": 1,
     "schema_version": 3,
     "solution": false,
     "task": false
    }
   },
   "outputs": [
    {
     "data": {
      "text/plain": [
       "'Run the following hidden tests'"
      ]
     },
     "execution_count": 45,
     "metadata": {},
     "output_type": "execute_result"
    }
   ],
   "source": [
    "\"\"\"Run the following hidden tests\"\"\"\n"
   ]
  },
  {
   "cell_type": "code",
   "execution_count": 46,
   "metadata": {
    "deletable": false,
    "editable": false,
    "nbgrader": {
     "cell_type": "code",
     "checksum": "9115fd96f6186c90b0ff7cc02d595147",
     "grade": true,
     "grade_id": "cell-c916a890dc5e2ef6",
     "locked": true,
     "points": 1,
     "schema_version": 3,
     "solution": false,
     "task": false
    }
   },
   "outputs": [
    {
     "data": {
      "text/plain": [
       "'Run the following hidden tests'"
      ]
     },
     "execution_count": 46,
     "metadata": {},
     "output_type": "execute_result"
    }
   ],
   "source": [
    "\"\"\"Run the following hidden tests\"\"\"\n"
   ]
  },
  {
   "cell_type": "markdown",
   "metadata": {
    "deletable": false,
    "editable": false,
    "nbgrader": {
     "cell_type": "markdown",
     "checksum": "e064c715d00b4032ef21b596aab32eb2",
     "grade": false,
     "grade_id": "cell-11780fe1faca26a2",
     "locked": true,
     "schema_version": 3,
     "solution": false,
     "task": false
    }
   },
   "source": [
    "### B Task 3\n",
    "Create a new column called `USD_year_life` inside the dataframe `health_exp` that is the ratio of dollars spent on health divided by the average life expectancy."
   ]
  },
  {
   "cell_type": "code",
   "execution_count": 47,
   "metadata": {
    "deletable": false,
    "nbgrader": {
     "cell_type": "code",
     "checksum": "1e38f9ba97d51fb912965594c8e4615c",
     "grade": false,
     "grade_id": "cell-6f49dc24e1e66d18",
     "locked": false,
     "schema_version": 3,
     "solution": true,
     "task": false
    }
   },
   "outputs": [
    {
     "data": {
      "text/plain": [
       "0    3.573810\n",
       "1    2.661260\n",
       "2    1.724520\n",
       "3    2.089403\n",
       "4    4.611580\n",
       "Name: USD_year_life, dtype: float64"
      ]
     },
     "execution_count": 47,
     "metadata": {},
     "output_type": "execute_result"
    }
   ],
   "source": [
    "# YOUR CODE HERE\n",
    "health_exp['USD_year_life'] = health_exp['Spending_USD'] / health_exp['Life_Expectancy']\n",
    "health_exp['USD_year_life'].head()"
   ]
  },
  {
   "cell_type": "code",
   "execution_count": 48,
   "metadata": {
    "deletable": false,
    "editable": false,
    "nbgrader": {
     "cell_type": "code",
     "checksum": "f545b82139029927cb4d3b45af0b195d",
     "grade": false,
     "grade_id": "cell-1da329220309b69b",
     "locked": true,
     "schema_version": 3,
     "solution": false,
     "task": false
    }
   },
   "outputs": [],
   "source": [
    "\"\"\"Run the following: you should get no errors\"\"\"\n",
    "\n",
    "try:\n",
    "    assert ('USD_year_life' in health_exp.columns) & (health_exp['USD_year_life'].dtype == float)\n",
    "except AssertionError:\n",
    "    raise AssertionError(\"USD_year_life should be a new column of type float\")"
   ]
  },
  {
   "cell_type": "code",
   "execution_count": 49,
   "metadata": {
    "deletable": false,
    "editable": false,
    "nbgrader": {
     "cell_type": "code",
     "checksum": "41996d0ac6217d89d59a2d67d94a86f9",
     "grade": true,
     "grade_id": "cell-7e23e49519900d40",
     "locked": true,
     "points": 1,
     "schema_version": 3,
     "solution": false,
     "task": false
    }
   },
   "outputs": [
    {
     "data": {
      "text/plain": [
       "'Run the following hidden tests'"
      ]
     },
     "execution_count": 49,
     "metadata": {},
     "output_type": "execute_result"
    }
   ],
   "source": [
    "\"\"\"Run the following hidden tests\"\"\"\n"
   ]
  },
  {
   "cell_type": "code",
   "execution_count": 50,
   "metadata": {
    "deletable": false,
    "editable": false,
    "nbgrader": {
     "cell_type": "code",
     "checksum": "3b2f04b0c97a77d2acadfd8bde746195",
     "grade": true,
     "grade_id": "cell-d049c8b50cdc9aa0",
     "locked": true,
     "points": 1,
     "schema_version": 3,
     "solution": false,
     "task": false
    }
   },
   "outputs": [
    {
     "data": {
      "text/plain": [
       "'Run the following hidden tests'"
      ]
     },
     "execution_count": 50,
     "metadata": {},
     "output_type": "execute_result"
    }
   ],
   "source": [
    "\"\"\"Run the following hidden tests\"\"\"\n"
   ]
  },
  {
   "cell_type": "markdown",
   "metadata": {
    "deletable": false,
    "editable": false,
    "nbgrader": {
     "cell_type": "markdown",
     "checksum": "aa1992c61206175ad7f258c3524136dd",
     "grade": false,
     "grade_id": "cell-ff184e82d0775bea",
     "locked": true,
     "schema_version": 3,
     "solution": false,
     "task": false
    }
   },
   "source": [
    "### B Task 4\n",
    "\n",
    "Calculate the difference between the maximum and minimum values of`'USD_year_life'` - (use the `.max()` and `.min()` methods) - round your answer to two decimal places, and store your answer as variable called `max_cost_difference`. "
   ]
  },
  {
   "cell_type": "code",
   "execution_count": 51,
   "metadata": {
    "deletable": false,
    "nbgrader": {
     "cell_type": "code",
     "checksum": "9832b0e90eb75266d9bea56936ef6137",
     "grade": false,
     "grade_id": "cell-24d40695763e73c1",
     "locked": false,
     "schema_version": 3,
     "solution": true,
     "task": false
    }
   },
   "outputs": [
    {
     "data": {
      "text/plain": [
       "152.29"
      ]
     },
     "execution_count": 51,
     "metadata": {},
     "output_type": "execute_result"
    }
   ],
   "source": [
    "# YOUR CODE HERE\n",
    "max_health_exp = round(health_exp['USD_year_life'].max(), 3)\n",
    "min_health_exp = round(health_exp['USD_year_life'].min(), 3)\n",
    "max_cost_difference = round((max_health_exp - min_health_exp), 3)\n",
    "max_cost_difference"
   ]
  },
  {
   "cell_type": "code",
   "execution_count": 52,
   "metadata": {},
   "outputs": [
    {
     "data": {
      "text/plain": [
       "'you need to round to the second decimal place and counting starts at zero\\nso when you put the number at the end of the round fucntion, you are telling it to stop\\nat that index in the number (aka stop at index 2, not second decimal)'"
      ]
     },
     "execution_count": 52,
     "metadata": {},
     "output_type": "execute_result"
    }
   ],
   "source": [
    "health_exp['USD_year_life'].max()\n",
    "'''you need to round to the second decimal place and counting starts at zero\n",
    "so when you put the number at the end of the round fucntion, you are telling it to stop\n",
    "at that index in the number (aka stop at index 2, not second decimal)'''"
   ]
  },
  {
   "cell_type": "code",
   "execution_count": 53,
   "metadata": {
    "deletable": false,
    "editable": false,
    "nbgrader": {
     "cell_type": "code",
     "checksum": "647fc1892d6408a2b6a67879f7be6a02",
     "grade": false,
     "grade_id": "cell-9f362fa480fd8377",
     "locked": true,
     "schema_version": 3,
     "solution": false,
     "task": false
    }
   },
   "outputs": [],
   "source": [
    "'''Run the following: you should get no errors'''\n",
    "\n",
    "def count_decimal_places(number):\n",
    "    if isinstance(number, float):\n",
    "        decimal_part = str(number).split(\".\")[1]\n",
    "        return len(decimal_part)\n",
    "    else:\n",
    "        return 0\n",
    "\n",
    "decimal_places = count_decimal_places(max_cost_difference)\n",
    "try: \n",
    "    assert decimal_places == 2\n",
    "except AssertionError:\n",
    "    raise AssertionError(\"Check your code - did you round to 2 decimal places?\")\n"
   ]
  },
  {
   "cell_type": "code",
   "execution_count": 54,
   "metadata": {
    "deletable": false,
    "editable": false,
    "nbgrader": {
     "cell_type": "code",
     "checksum": "7de73a4eb7fff2436c8fe5a769bc4f5f",
     "grade": true,
     "grade_id": "cell-87ba574b4aaa2b3c",
     "locked": true,
     "points": 1,
     "schema_version": 3,
     "solution": false,
     "task": false
    }
   },
   "outputs": [
    {
     "data": {
      "text/plain": [
       "' Run the following hidden tests: you should get no errors'"
      ]
     },
     "execution_count": 54,
     "metadata": {},
     "output_type": "execute_result"
    }
   ],
   "source": [
    "''' Run the following hidden tests: you should get no errors'''"
   ]
  },
  {
   "cell_type": "code",
   "execution_count": 55,
   "metadata": {
    "deletable": false,
    "editable": false,
    "nbgrader": {
     "cell_type": "code",
     "checksum": "39100b85a128a10fe87964f7044c7495",
     "grade": true,
     "grade_id": "cell-dda457f1653ccdda",
     "locked": true,
     "points": 1,
     "schema_version": 3,
     "solution": false,
     "task": false
    }
   },
   "outputs": [
    {
     "data": {
      "text/plain": [
       "' Run the following hidden tests: you should get no errors'"
      ]
     },
     "execution_count": 55,
     "metadata": {},
     "output_type": "execute_result"
    }
   ],
   "source": [
    "''' Run the following hidden tests: you should get no errors'''"
   ]
  },
  {
   "cell_type": "markdown",
   "metadata": {
    "deletable": false,
    "editable": false,
    "nbgrader": {
     "cell_type": "markdown",
     "checksum": "990750ba093d3b8972536590dbf7b09d",
     "grade": false,
     "grade_id": "cell-0bffa6b50832bba0",
     "locked": true,
     "schema_version": 3,
     "solution": false,
     "task": false
    }
   },
   "source": [
    "### B Task 5\n",
    "\n",
    "Now let's find the row that holds the most expensive $/year of life expectancy in `health_exp` and store it in a variable called `worst_place_to_live`.  Do do this we can use the function `.idxmax()`, this returns the index location of the maximum value. \n",
    "\n",
    "For instance:\n",
    "\n",
    "```\n",
    "data = pd.DataFrame({'a':[10,9,8,7,1000,5,4,3,2,1]})\n",
    "data['a'].idxmax()\n",
    "```\n",
    "returns `4`\n",
    "\n",
    "This location can then be used to *explicitly* index the original data. See `.loc` examples"
   ]
  },
  {
   "cell_type": "code",
   "execution_count": 56,
   "metadata": {},
   "outputs": [
    {
     "data": {
      "text/html": [
       "<div>\n",
       "<style scoped>\n",
       "    .dataframe tbody tr th:only-of-type {\n",
       "        vertical-align: middle;\n",
       "    }\n",
       "\n",
       "    .dataframe tbody tr th {\n",
       "        vertical-align: top;\n",
       "    }\n",
       "\n",
       "    .dataframe thead th {\n",
       "        text-align: right;\n",
       "    }\n",
       "</style>\n",
       "<table border=\"1\" class=\"dataframe\">\n",
       "  <thead>\n",
       "    <tr style=\"text-align: right;\">\n",
       "      <th></th>\n",
       "      <th>Year</th>\n",
       "      <th>Country</th>\n",
       "      <th>Spending_USD</th>\n",
       "      <th>Life_Expectancy</th>\n",
       "      <th>USD_year_life</th>\n",
       "    </tr>\n",
       "  </thead>\n",
       "  <tbody>\n",
       "    <tr>\n",
       "      <th>0</th>\n",
       "      <td>1970</td>\n",
       "      <td>Germany</td>\n",
       "      <td>252.311</td>\n",
       "      <td>70.6</td>\n",
       "      <td>3.573810</td>\n",
       "    </tr>\n",
       "    <tr>\n",
       "      <th>1</th>\n",
       "      <td>1970</td>\n",
       "      <td>France</td>\n",
       "      <td>192.143</td>\n",
       "      <td>72.2</td>\n",
       "      <td>2.661260</td>\n",
       "    </tr>\n",
       "    <tr>\n",
       "      <th>2</th>\n",
       "      <td>1970</td>\n",
       "      <td>Great Britain</td>\n",
       "      <td>123.993</td>\n",
       "      <td>71.9</td>\n",
       "      <td>1.724520</td>\n",
       "    </tr>\n",
       "    <tr>\n",
       "      <th>3</th>\n",
       "      <td>1970</td>\n",
       "      <td>Japan</td>\n",
       "      <td>150.437</td>\n",
       "      <td>72.0</td>\n",
       "      <td>2.089403</td>\n",
       "    </tr>\n",
       "    <tr>\n",
       "      <th>4</th>\n",
       "      <td>1970</td>\n",
       "      <td>USA</td>\n",
       "      <td>326.961</td>\n",
       "      <td>70.9</td>\n",
       "      <td>4.611580</td>\n",
       "    </tr>\n",
       "  </tbody>\n",
       "</table>\n",
       "</div>"
      ],
      "text/plain": [
       "   Year        Country  Spending_USD  Life_Expectancy  USD_year_life\n",
       "0  1970        Germany       252.311             70.6       3.573810\n",
       "1  1970         France       192.143             72.2       2.661260\n",
       "2  1970  Great Britain       123.993             71.9       1.724520\n",
       "3  1970          Japan       150.437             72.0       2.089403\n",
       "4  1970            USA       326.961             70.9       4.611580"
      ]
     },
     "execution_count": 56,
     "metadata": {},
     "output_type": "execute_result"
    }
   ],
   "source": [
    "health_exp.head()"
   ]
  },
  {
   "cell_type": "code",
   "execution_count": 57,
   "metadata": {
    "deletable": false,
    "nbgrader": {
     "cell_type": "code",
     "checksum": "d8b8314b54148f072879b8f2802ebb0d",
     "grade": false,
     "grade_id": "cell-39f9855fa60f0491",
     "locked": false,
     "schema_version": 3,
     "solution": true,
     "task": false
    }
   },
   "outputs": [
    {
     "data": {
      "text/plain": [
       "Year                     2020\n",
       "Country                   USA\n",
       "Spending_USD        11859.179\n",
       "Life_Expectancy          77.0\n",
       "USD_year_life      154.015312\n",
       "Name: 273, dtype: object"
      ]
     },
     "execution_count": 57,
     "metadata": {},
     "output_type": "execute_result"
    }
   ],
   "source": [
    "# find the country with the highest USD per year of life\n",
    "# YOUR CODE HERE\n",
    "worst_place_to_live = health_exp.loc[health_exp['USD_year_life'].idxmax()]\n",
    "worst_place_to_live\n",
    "\n",
    "\n"
   ]
  },
  {
   "cell_type": "code",
   "execution_count": 58,
   "metadata": {},
   "outputs": [
    {
     "name": "stdout",
     "output_type": "stream",
     "text": [
      "(5,)\n"
     ]
    }
   ],
   "source": [
    "\n",
    "print(worst_place_to_live.shape)"
   ]
  },
  {
   "cell_type": "code",
   "execution_count": 59,
   "metadata": {
    "deletable": false,
    "editable": false,
    "nbgrader": {
     "cell_type": "code",
     "checksum": "2e701023dc26baf2b9f2595c607c289c",
     "grade": false,
     "grade_id": "cell-eb0677422d4f9a02",
     "locked": true,
     "schema_version": 3,
     "solution": false,
     "task": false
    }
   },
   "outputs": [],
   "source": [
    "''' Run the following: you should get no errors'''\n",
    "try:\n",
    "    assert type(worst_place_to_live) == pd.core.series.Series\n",
    "except AssertionError:\n",
    "    raise AssertionError(\"worst_place_to_live should be a series containing the row of the country with the highest USD per year of life\")"
   ]
  },
  {
   "cell_type": "code",
   "execution_count": 60,
   "metadata": {
    "deletable": false,
    "editable": false,
    "nbgrader": {
     "cell_type": "code",
     "checksum": "a2183b8b254e7707ef3a2a46ebbb18e0",
     "grade": false,
     "grade_id": "cell-b2f7f50ca8cee805",
     "locked": true,
     "schema_version": 3,
     "solution": false,
     "task": false
    }
   },
   "outputs": [],
   "source": [
    "try:\n",
    "    assert worst_place_to_live.shape == (5,)\n",
    "except AssertionError:\n",
    "    raise AssertionError(\"worst_place_to_live should be a series containing all the information about the country with the highest USD per year of life\")"
   ]
  },
  {
   "cell_type": "code",
   "execution_count": 61,
   "metadata": {
    "deletable": false,
    "editable": false,
    "nbgrader": {
     "cell_type": "code",
     "checksum": "036357b1c5c6d96f0966f99247dd3d96",
     "grade": true,
     "grade_id": "cell-a1ff8573fba66d31",
     "locked": true,
     "points": 1,
     "schema_version": 3,
     "solution": false,
     "task": false
    }
   },
   "outputs": [
    {
     "data": {
      "text/plain": [
       "' Run the following hidden tests: you should get no errors'"
      ]
     },
     "execution_count": 61,
     "metadata": {},
     "output_type": "execute_result"
    }
   ],
   "source": [
    "''' Run the following hidden tests: you should get no errors'''"
   ]
  },
  {
   "cell_type": "code",
   "execution_count": 62,
   "metadata": {
    "deletable": false,
    "editable": false,
    "nbgrader": {
     "cell_type": "code",
     "checksum": "0b34a286a49de733bb7627191b1eacec",
     "grade": true,
     "grade_id": "cell-00e5ae02ce526347",
     "locked": true,
     "points": 1,
     "schema_version": 3,
     "solution": false,
     "task": false
    }
   },
   "outputs": [
    {
     "data": {
      "text/plain": [
       "' Run the following hidden tests: you should get no errors'"
      ]
     },
     "execution_count": 62,
     "metadata": {},
     "output_type": "execute_result"
    }
   ],
   "source": [
    "''' Run the following hidden tests: you should get no errors'''"
   ]
  },
  {
   "cell_type": "code",
   "execution_count": 63,
   "metadata": {
    "deletable": false,
    "editable": false,
    "nbgrader": {
     "cell_type": "code",
     "checksum": "544b171e66d795b346c7db0defcbfefa",
     "grade": true,
     "grade_id": "cell-67f7509550db86b8",
     "locked": true,
     "points": 1,
     "schema_version": 3,
     "solution": false,
     "task": false
    }
   },
   "outputs": [
    {
     "data": {
      "text/plain": [
       "' Run the following hidden tests: you should get no errors'"
      ]
     },
     "execution_count": 63,
     "metadata": {},
     "output_type": "execute_result"
    }
   ],
   "source": [
    "''' Run the following hidden tests: you should get no errors'''"
   ]
  },
  {
   "cell_type": "markdown",
   "metadata": {
    "deletable": false,
    "editable": false,
    "nbgrader": {
     "cell_type": "markdown",
     "checksum": "0f8e907a77a687973be6b8527851f371",
     "grade": false,
     "grade_id": "cell-94dd94c36ecf071c",
     "locked": true,
     "schema_version": 3,
     "solution": false,
     "task": false
    }
   },
   "source": [
    "---\n",
    "## Part C (3 points)\n",
    "\n",
    "Create a function called `data_gen` that creates a pandas dataframe called `df` containing *excactly* the following data and return `df` from the function. \n",
    "\n",
    " `|City | Lat | Lon\n",
    "----|------ | ------ | ------\n",
    "0|Washington DC   | 38.907192 | -77.036873\n",
    "1|New York  | 40.712776 | -74.005974\n",
    "2|Boston  | 42.360081 | -71.058884\n",
    "3|Chicago  | 41.878113 | -87.629799\n"
   ]
  },
  {
   "cell_type": "code",
   "execution_count": 64,
   "metadata": {
    "deletable": false,
    "nbgrader": {
     "cell_type": "code",
     "checksum": "83259fdb257cac1a78b84dfc6a84864a",
     "grade": false,
     "grade_id": "squares",
     "locked": false,
     "schema_version": 3,
     "solution": true
    }
   },
   "outputs": [],
   "source": [
    "\n",
    "def data_gen():\n",
    "    data = {\n",
    "        'City': [\n",
    "            'Washington DC', \n",
    "            'New York',\n",
    "            'Boston',\n",
    "            'Chicago'\n",
    "            ],\n",
    "        'Lat': [38.907192, 40.712776, 42.360081, 41.878113],\n",
    "        'Lon': [-77.036873, -74.005974, -71.058884, -87.629799]\n",
    "    }\n",
    "    df_city = pd.DataFrame(data)\n",
    "    return df_city  # Return the DataFrame\n"
   ]
  },
  {
   "cell_type": "markdown",
   "metadata": {
    "deletable": false,
    "editable": false,
    "nbgrader": {
     "cell_type": "markdown",
     "checksum": "f019f18e54adfc582cf9dca81d785b21",
     "grade": false,
     "grade_id": "cell-2b3519d4a6446d3e",
     "locked": true,
     "schema_version": 3,
     "solution": false,
     "task": false
    }
   },
   "source": [
    "\n",
    "Your function should return a pandas dataframe object. Check that is does:\n",
    "\n",
    "*Do not change cell below*"
   ]
  },
  {
   "cell_type": "code",
   "execution_count": 65,
   "metadata": {
    "deletable": false,
    "editable": false,
    "nbgrader": {
     "cell_type": "code",
     "checksum": "e6b21f67269b3250175f455e9be8ab62",
     "grade": false,
     "grade_id": "cell-d319d6fe07e2f6c5",
     "locked": true,
     "schema_version": 3,
     "solution": false,
     "task": false
    }
   },
   "outputs": [
    {
     "data": {
      "text/html": [
       "<div>\n",
       "<style scoped>\n",
       "    .dataframe tbody tr th:only-of-type {\n",
       "        vertical-align: middle;\n",
       "    }\n",
       "\n",
       "    .dataframe tbody tr th {\n",
       "        vertical-align: top;\n",
       "    }\n",
       "\n",
       "    .dataframe thead th {\n",
       "        text-align: right;\n",
       "    }\n",
       "</style>\n",
       "<table border=\"1\" class=\"dataframe\">\n",
       "  <thead>\n",
       "    <tr style=\"text-align: right;\">\n",
       "      <th></th>\n",
       "      <th>City</th>\n",
       "      <th>Lat</th>\n",
       "      <th>Lon</th>\n",
       "    </tr>\n",
       "  </thead>\n",
       "  <tbody>\n",
       "    <tr>\n",
       "      <th>0</th>\n",
       "      <td>Washington DC</td>\n",
       "      <td>38.907192</td>\n",
       "      <td>-77.036873</td>\n",
       "    </tr>\n",
       "    <tr>\n",
       "      <th>1</th>\n",
       "      <td>New York</td>\n",
       "      <td>40.712776</td>\n",
       "      <td>-74.005974</td>\n",
       "    </tr>\n",
       "    <tr>\n",
       "      <th>2</th>\n",
       "      <td>Boston</td>\n",
       "      <td>42.360081</td>\n",
       "      <td>-71.058884</td>\n",
       "    </tr>\n",
       "    <tr>\n",
       "      <th>3</th>\n",
       "      <td>Chicago</td>\n",
       "      <td>41.878113</td>\n",
       "      <td>-87.629799</td>\n",
       "    </tr>\n",
       "  </tbody>\n",
       "</table>\n",
       "</div>"
      ],
      "text/plain": [
       "            City        Lat        Lon\n",
       "0  Washington DC  38.907192 -77.036873\n",
       "1       New York  40.712776 -74.005974\n",
       "2         Boston  42.360081 -71.058884\n",
       "3        Chicago  41.878113 -87.629799"
      ]
     },
     "execution_count": 65,
     "metadata": {},
     "output_type": "execute_result"
    }
   ],
   "source": [
    "cities = data_gen()\n",
    "cities\n"
   ]
  },
  {
   "cell_type": "code",
   "execution_count": 66,
   "metadata": {
    "deletable": false,
    "editable": false,
    "nbgrader": {
     "cell_type": "code",
     "checksum": "28a7f9eafdef203f3d0e99d6560accc4",
     "grade": false,
     "grade_id": "cell-a03978174f301819",
     "locked": true,
     "schema_version": 3,
     "solution": false,
     "task": false
    }
   },
   "outputs": [],
   "source": [
    "\"\"\"Run the following: you should get no errors\"\"\"\n",
    "try:\n",
    "    assert type(cities) == pd.core.frame.DataFrame \n",
    "except AssertionError:\n",
    "    raise AssertionError(\"Cities is not a DataFrame\")"
   ]
  },
  {
   "cell_type": "code",
   "execution_count": 67,
   "metadata": {
    "deletable": false,
    "editable": false,
    "nbgrader": {
     "cell_type": "code",
     "checksum": "24fac144b8e93aa3d0281e0d06003a14",
     "grade": false,
     "grade_id": "cell-e7a90d5362e99202",
     "locked": true,
     "schema_version": 3,
     "solution": false,
     "task": false
    }
   },
   "outputs": [],
   "source": [
    "\"\"\" Run, checking contents \"\"\"\n",
    "try:\n",
    "    assert cities.columns.to_list() == ['City','Lat','Lon']\n",
    "except AssertionError:\n",
    "    raise AssertionError(\"Columns should be 'City','Lat','Lon'\")"
   ]
  },
  {
   "cell_type": "code",
   "execution_count": 68,
   "metadata": {
    "deletable": false,
    "editable": false,
    "nbgrader": {
     "cell_type": "code",
     "checksum": "d27616426874f83bebd12c18870cbb51",
     "grade": true,
     "grade_id": "cell-413f0b0f2fc9833a",
     "locked": true,
     "points": 0.5,
     "schema_version": 3,
     "solution": false,
     "task": false
    }
   },
   "outputs": [
    {
     "data": {
      "text/plain": [
       "' Begining hidden tests '"
      ]
     },
     "execution_count": 68,
     "metadata": {},
     "output_type": "execute_result"
    }
   ],
   "source": [
    "\"\"\" Begining hidden tests \"\"\""
   ]
  },
  {
   "cell_type": "code",
   "execution_count": 69,
   "metadata": {
    "deletable": false,
    "editable": false,
    "nbgrader": {
     "cell_type": "code",
     "checksum": "1c358ae53c7e75480da3990001d9bd97",
     "grade": true,
     "grade_id": "cell-1c26aba0d213de76",
     "locked": true,
     "points": 1,
     "schema_version": 3,
     "solution": false,
     "task": false
    }
   },
   "outputs": [
    {
     "data": {
      "text/plain": [
       "' Begining hidden tests '"
      ]
     },
     "execution_count": 69,
     "metadata": {},
     "output_type": "execute_result"
    }
   ],
   "source": [
    "\"\"\" Begining hidden tests \"\"\""
   ]
  },
  {
   "cell_type": "code",
   "execution_count": 70,
   "metadata": {
    "deletable": false,
    "editable": false,
    "nbgrader": {
     "cell_type": "code",
     "checksum": "3a61dc2638072e8751a619faffd2f246",
     "grade": true,
     "grade_id": "cell-c8cd231b750ab3cf",
     "locked": true,
     "points": 1.5,
     "schema_version": 3,
     "solution": false,
     "task": false
    }
   },
   "outputs": [
    {
     "data": {
      "text/plain": [
       "' Begining hidden tests '"
      ]
     },
     "execution_count": 70,
     "metadata": {},
     "output_type": "execute_result"
    }
   ],
   "source": [
    "\"\"\" Begining hidden tests \"\"\""
   ]
  },
  {
   "cell_type": "markdown",
   "metadata": {
    "deletable": false,
    "editable": false,
    "nbgrader": {
     "cell_type": "markdown",
     "checksum": "59b756f8b78b8b23ff912e4c2065410f",
     "grade": false,
     "grade_id": "cell-4501771e4e436b91",
     "locked": true,
     "schema_version": 3,
     "solution": false,
     "task": false
    },
    "tags": []
   },
   "source": [
    "## Part D (5 points)\n",
    "Create a function called `dist` that returns the euclidean distance between two points. \n",
    "\n",
    "Where euclidean distance is calculated as for coordinate pairs p and q:\n",
    "\n",
    "$d(p,q) = \\sqrt{(q_x-p_x)^2 + (q_y-p_y)^2}$"
   ]
  },
  {
   "cell_type": "code",
   "execution_count": 71,
   "metadata": {
    "deletable": false,
    "nbgrader": {
     "cell_type": "code",
     "checksum": "d7c612ae2d80128019028d7652269004",
     "grade": false,
     "grade_id": "def_euclidean",
     "locked": false,
     "schema_version": 3,
     "solution": true,
     "task": false
    }
   },
   "outputs": [],
   "source": [
    "from math import sqrt\n",
    "\n",
    "def dist(x1, y1, x2, y2):\n",
    "   x_subtract = x1 - x2 \n",
    "   y_subtract = y1 - y2\n",
    "   x_square = (x_subtract)**2\n",
    "   y_square = (y_subtract)**2\n",
    "   sum = x_square + y_square\n",
    "   euc_dist = sqrt(sum)\n",
    "   return round(euc_dist, 3)\n"
   ]
  },
  {
   "cell_type": "code",
   "execution_count": 72,
   "metadata": {
    "deletable": false,
    "editable": false,
    "nbgrader": {
     "cell_type": "code",
     "checksum": "79296c8672e3b7ee2e29a2f1cc14951b",
     "grade": true,
     "grade_id": "cell-aa99a2d97c67c227",
     "locked": true,
     "points": 2.5,
     "schema_version": 3,
     "solution": false,
     "task": false
    }
   },
   "outputs": [],
   "source": [
    "\"\"\"Run the following: you should get no errors\"\"\"\n",
    "try:\n",
    "    assert round(dist(x1=0,y1=0, x2=1,y2=1),3) == 1.414\n",
    "except AssertionError:\n",
    "    raise AssertionError(\"Make sure your function returns the euclidean distance\")\n",
    "\n"
   ]
  },
  {
   "cell_type": "code",
   "execution_count": 73,
   "metadata": {
    "deletable": false,
    "editable": false,
    "nbgrader": {
     "cell_type": "code",
     "checksum": "eae484289b5f5340b531dfc6e3d2f7f5",
     "grade": true,
     "grade_id": "cell-cf22268094b4ea5e",
     "locked": true,
     "points": 2.5,
     "schema_version": 3,
     "solution": false,
     "task": false
    }
   },
   "outputs": [],
   "source": [
    "\"\"\"Run the following: you should get no errors\"\"\"\n",
    "try:\n",
    "    assert round(dist(x1=-1,y1=-1, x2=1,y2=1),3) == 2.828\n",
    "except AssertionError:\n",
    "    raise AssertionError(\"Make sure your function returns the euclidean distance\")"
   ]
  },
  {
   "cell_type": "markdown",
   "metadata": {
    "deletable": false,
    "editable": false,
    "nbgrader": {
     "cell_type": "markdown",
     "checksum": "15ca6dc11f522da21808282e4a61c7c9",
     "grade": false,
     "grade_id": "cell-64510faf397a11d2",
     "locked": true,
     "schema_version": 3,
     "solution": false,
     "task": false
    },
    "tags": []
   },
   "source": [
    "# Iterrows \n",
    "Iterating along rows of a dataframe can be challenging. One solution is to use `iterrows()`. This method allows us to:\n",
    "```\n",
    "df = pd.DataFrame([[1, 4],[2, 5],[3,6]] , columns=['A', 'B'])\n",
    "df\n",
    "   A  B\n",
    "0  1  4\n",
    "1  2  5\n",
    "2  3  6\n",
    "```\n",
    "\n",
    "iterrows spits out two peices of information that we can use to access the data, the index location (row number), and the data from that row \n",
    "```\n",
    "for row_number, row_data in df.iterrows():\n",
    "    print(row_number)\n",
    "0\n",
    "1\n",
    "2\n",
    "```\n",
    "\n",
    "We can access the data one row at a time.\n",
    "```\n",
    "for row_number, row_data in df.iterrows():\n",
    "    print(row_data)\n",
    "    \n",
    "A    1\n",
    "B    4\n",
    "Name: 0, dtype: int64\n",
    "A    2\n",
    "B    5\n",
    "Name: 1, dtype: int64\n",
    "A    3\n",
    "B    6\n",
    "Name: 2, dtype: int64\n",
    "\n",
    "```\n",
    "\n",
    "Or if we want a single column of data we can:\n",
    "```\n",
    "for row_number, row_data in df.iterrows():\n",
    "    print(row_data['B'])\n",
    "    \n",
    "4\n",
    "5\n",
    "6\n",
    "```\n",
    "\n",
    "This is the same things as the example above, but we are going to use `.loc` and access `df` by both row number and column name.  \n",
    "```\n",
    "for row_number, row_data in df.iterrows():\n",
    "    print(df.loc[row_number,'B'])\n",
    "    \n",
    "4\n",
    "5\n",
    "6\n",
    "```\n",
    "\n",
    "Note if we want to store the output from iterrows in the same dataframe we need to access the row number and column on both sides of the assignment.\n",
    "```\n",
    "for row_number, row_data in df.iterrows():\n",
    "    df.loc[row_number,\"B2\"] = df.loc[row_number,'B']**2\n",
    "print(df)\n",
    "\n",
    "   A  B    B2\n",
    "0  1  4  16.0\n",
    "1  2  5  25.0\n",
    "2  3  6  36.0\n",
    "```\n"
   ]
  },
  {
   "cell_type": "markdown",
   "metadata": {
    "deletable": false,
    "editable": false,
    "nbgrader": {
     "cell_type": "markdown",
     "checksum": "71a6d2a35de21dd7011c412e61e752a6",
     "grade": false,
     "grade_id": "cell-f92ab397e46974de",
     "locked": true,
     "schema_version": 3,
     "solution": false,
     "task": false
    },
    "tags": []
   },
   "source": [
    "## Part E (5 points)\n",
    "\n",
    "Starting with df and using `iterrows` below create a third column C in `df` that is holds the value of columns `A` minus the values in `B`. "
   ]
  },
  {
   "cell_type": "code",
   "execution_count": 74,
   "metadata": {
    "deletable": false,
    "nbgrader": {
     "cell_type": "code",
     "checksum": "5ca03156f4ca24534ff6df9c4af74857",
     "grade": false,
     "grade_id": "iterrow_col",
     "locked": false,
     "schema_version": 3,
     "solution": true,
     "task": false
    }
   },
   "outputs": [
    {
     "name": "stdout",
     "output_type": "stream",
     "text": [
      "   A  B    C\n",
      "0  1  4 -3.0\n",
      "1  2  5 -3.0\n",
      "2  3  6 -3.0\n"
     ]
    }
   ],
   "source": [
    "df = pd.DataFrame([[1, 4],[2, 5],[3,6]] , columns=['A', 'B'])\n",
    "\n",
    "for row_number, row_data in df.iterrows():\n",
    "    # YOUR CODE HERE\n",
    "    df.loc[row_number, 'C'] = df.loc[row_number, 'A'] - df.loc[row_number, 'B']\n",
    "\n",
    "print(df)\n"
   ]
  },
  {
   "cell_type": "code",
   "execution_count": 75,
   "metadata": {
    "deletable": false,
    "editable": false,
    "nbgrader": {
     "cell_type": "code",
     "checksum": "372589e2b8266c21d21830756c0115e3",
     "grade": false,
     "grade_id": "cell-38f151a565a5d2ed",
     "locked": true,
     "schema_version": 3,
     "solution": false,
     "task": false
    }
   },
   "outputs": [],
   "source": [
    "\"\"\"Run the following: you should get no errors\"\"\"\n",
    "try:\n",
    "    assert df.columns.to_list() == ['A', 'B', 'C']\n",
    "except AssertionError:\n",
    "    raise AssertionError(\"Check column names\")\n"
   ]
  },
  {
   "cell_type": "code",
   "execution_count": 76,
   "metadata": {
    "deletable": false,
    "editable": false,
    "nbgrader": {
     "cell_type": "code",
     "checksum": "71f1238622d4db2259a03053887e75cb",
     "grade": true,
     "grade_id": "cell-8fb53dac8c6b51fb",
     "locked": true,
     "points": 1.5,
     "schema_version": 3,
     "solution": false,
     "task": false
    }
   },
   "outputs": [
    {
     "data": {
      "text/plain": [
       "'additional hidden tests'"
      ]
     },
     "execution_count": 76,
     "metadata": {},
     "output_type": "execute_result"
    }
   ],
   "source": [
    "\"\"\"additional hidden tests\"\"\""
   ]
  },
  {
   "cell_type": "code",
   "execution_count": 77,
   "metadata": {
    "deletable": false,
    "editable": false,
    "nbgrader": {
     "cell_type": "code",
     "checksum": "800523dcf8f1f3cd48d2dc90f2aeddfa",
     "grade": true,
     "grade_id": "cell-af87cfde0c71f4cc",
     "locked": true,
     "points": 1,
     "schema_version": 3,
     "solution": false,
     "task": false
    }
   },
   "outputs": [
    {
     "data": {
      "text/plain": [
       "'additional hidden tests'"
      ]
     },
     "execution_count": 77,
     "metadata": {},
     "output_type": "execute_result"
    }
   ],
   "source": [
    "\"\"\"additional hidden tests\"\"\""
   ]
  },
  {
   "cell_type": "markdown",
   "metadata": {
    "deletable": false,
    "editable": false,
    "nbgrader": {
     "cell_type": "markdown",
     "checksum": "f5274cf522663324899f9c29bb865092",
     "grade": false,
     "grade_id": "cell-895b6cf7ef612242",
     "locked": true,
     "schema_version": 3,
     "solution": false,
     "task": false
    },
    "tags": []
   },
   "source": [
    "Using `.interrows()` and your `dist()` function from above, calculate the euclidean distance between Washington DC and all other cities (including DC itself). Store the output in a new column called `euc_dc`."
   ]
  },
  {
   "cell_type": "code",
   "execution_count": 78,
   "metadata": {
    "deletable": false,
    "nbgrader": {
     "cell_type": "code",
     "checksum": "9b33aa57949f8a27200c07e2174db6bc",
     "grade": false,
     "grade_id": "cell-02fe9c52d016e903",
     "locked": false,
     "schema_version": 3,
     "solution": true,
     "task": false
    }
   },
   "outputs": [],
   "source": [
    "import numpy as np\n",
    "def dist_DC(cities):\n",
    "    '''Calculate the distance between all cities and DC, (including DC itself)\n",
    "    Return all distances as a list '''\n",
    "    # grab lat lon of washington dc\n",
    "    Lat_dc = cities.loc[(cities.City == 'Washington DC'),'Lat']\n",
    "    Lon_dc = cities.loc[(cities.City == 'Washington DC'),'Lon']\n",
    "    \n",
    "    # create placeholder for the euclidean distance measure\n",
    "    cities['euc_dc'] = np.nan\n",
    "    \n",
    "    # create empty list to store distances\n",
    "    for row_number, row_data in cities.iterrows():\n",
    "        distance = dist(x1 = Lat_dc, y1 = Lon_dc, x2 = row_data['Lat'], y2 = row_data['Lon'])\n",
    "        cities.loc[row_number, 'euc_dc'] = distance\n",
    "    # YOUR CODE HERE\n",
    "    return cities\n"
   ]
  },
  {
   "cell_type": "code",
   "execution_count": 79,
   "metadata": {
    "deletable": false,
    "editable": false,
    "nbgrader": {
     "cell_type": "code",
     "checksum": "5b728b4e3e72771784009b36e1acc818",
     "grade": false,
     "grade_id": "cell-0673bbe4bc84f382",
     "locked": true,
     "schema_version": 3,
     "solution": false,
     "task": false
    }
   },
   "outputs": [
    {
     "name": "stderr",
     "output_type": "stream",
     "text": [
      "/var/folders/zs/qg91ct2s3r1dh50y68w3rrf80000gn/T/ipykernel_65193/1104764104.py:9: FutureWarning: Calling float on a single element Series is deprecated and will raise a TypeError in the future. Use float(ser.iloc[0]) instead\n",
      "  euc_dist = sqrt(sum)\n",
      "/var/folders/zs/qg91ct2s3r1dh50y68w3rrf80000gn/T/ipykernel_65193/1104764104.py:9: FutureWarning: Calling float on a single element Series is deprecated and will raise a TypeError in the future. Use float(ser.iloc[0]) instead\n",
      "  euc_dist = sqrt(sum)\n",
      "/var/folders/zs/qg91ct2s3r1dh50y68w3rrf80000gn/T/ipykernel_65193/1104764104.py:9: FutureWarning: Calling float on a single element Series is deprecated and will raise a TypeError in the future. Use float(ser.iloc[0]) instead\n",
      "  euc_dist = sqrt(sum)\n",
      "/var/folders/zs/qg91ct2s3r1dh50y68w3rrf80000gn/T/ipykernel_65193/1104764104.py:9: FutureWarning: Calling float on a single element Series is deprecated and will raise a TypeError in the future. Use float(ser.iloc[0]) instead\n",
      "  euc_dist = sqrt(sum)\n"
     ]
    },
    {
     "data": {
      "text/html": [
       "<div>\n",
       "<style scoped>\n",
       "    .dataframe tbody tr th:only-of-type {\n",
       "        vertical-align: middle;\n",
       "    }\n",
       "\n",
       "    .dataframe tbody tr th {\n",
       "        vertical-align: top;\n",
       "    }\n",
       "\n",
       "    .dataframe thead th {\n",
       "        text-align: right;\n",
       "    }\n",
       "</style>\n",
       "<table border=\"1\" class=\"dataframe\">\n",
       "  <thead>\n",
       "    <tr style=\"text-align: right;\">\n",
       "      <th></th>\n",
       "      <th>City</th>\n",
       "      <th>Lat</th>\n",
       "      <th>Lon</th>\n",
       "      <th>euc_dc</th>\n",
       "    </tr>\n",
       "  </thead>\n",
       "  <tbody>\n",
       "    <tr>\n",
       "      <th>0</th>\n",
       "      <td>Washington DC</td>\n",
       "      <td>38.907192</td>\n",
       "      <td>-77.036873</td>\n",
       "      <td>0.000</td>\n",
       "    </tr>\n",
       "    <tr>\n",
       "      <th>1</th>\n",
       "      <td>New York</td>\n",
       "      <td>40.712776</td>\n",
       "      <td>-74.005974</td>\n",
       "      <td>3.528</td>\n",
       "    </tr>\n",
       "    <tr>\n",
       "      <th>2</th>\n",
       "      <td>Boston</td>\n",
       "      <td>42.360081</td>\n",
       "      <td>-71.058884</td>\n",
       "      <td>6.904</td>\n",
       "    </tr>\n",
       "    <tr>\n",
       "      <th>3</th>\n",
       "      <td>Chicago</td>\n",
       "      <td>41.878113</td>\n",
       "      <td>-87.629799</td>\n",
       "      <td>11.002</td>\n",
       "    </tr>\n",
       "  </tbody>\n",
       "</table>\n",
       "</div>"
      ],
      "text/plain": [
       "            City        Lat        Lon  euc_dc\n",
       "0  Washington DC  38.907192 -77.036873   0.000\n",
       "1       New York  40.712776 -74.005974   3.528\n",
       "2         Boston  42.360081 -71.058884   6.904\n",
       "3        Chicago  41.878113 -87.629799  11.002"
      ]
     },
     "execution_count": 79,
     "metadata": {},
     "output_type": "execute_result"
    }
   ],
   "source": [
    "# Dont edit this\n",
    "# run dist_DC and store output  \n",
    "euc_city = dist_DC(cities)\n",
    "euc_city"
   ]
  },
  {
   "cell_type": "code",
   "execution_count": 80,
   "metadata": {
    "deletable": false,
    "editable": false,
    "nbgrader": {
     "cell_type": "code",
     "checksum": "db345e96c45c4ca651bc0079c6508b6f",
     "grade": false,
     "grade_id": "cell-bc990e8f678057db",
     "locked": true,
     "schema_version": 3,
     "solution": false,
     "task": false
    }
   },
   "outputs": [],
   "source": [
    "\"\"\"Run the following: you should get no errors\"\"\"\n",
    "\n",
    "try:\n",
    "    assert euc_city.columns.to_list() == ['City', 'Lat', 'Lon', 'euc_dc']\n",
    "except AssertionError:\n",
    "    raise AssertionError(\"Check column names\")"
   ]
  },
  {
   "cell_type": "code",
   "execution_count": 81,
   "metadata": {
    "deletable": false,
    "editable": false,
    "nbgrader": {
     "cell_type": "code",
     "checksum": "29079168c8a2c6b1bafbe545da3eb5c2",
     "grade": false,
     "grade_id": "cell-c6bbc1af5fa7191a",
     "locked": true,
     "schema_version": 3,
     "solution": false,
     "task": false
    }
   },
   "outputs": [],
   "source": [
    "try:\n",
    "    assert euc_city.loc[0,'euc_dc'] == 0.0\n",
    "except AssertionError:\n",
    "    raise AssertionError(\"DC should be 0.0 degrees away from itself\")"
   ]
  },
  {
   "cell_type": "code",
   "execution_count": 82,
   "metadata": {
    "deletable": false,
    "editable": false,
    "nbgrader": {
     "cell_type": "code",
     "checksum": "e93d1bef2108253a8376dead0775e540",
     "grade": true,
     "grade_id": "cell-ddc536a77f396dd1",
     "locked": true,
     "points": 0.5,
     "schema_version": 3,
     "solution": false,
     "task": false
    }
   },
   "outputs": [
    {
     "data": {
      "text/plain": [
       "'additional hidden tests'"
      ]
     },
     "execution_count": 82,
     "metadata": {},
     "output_type": "execute_result"
    }
   ],
   "source": [
    "\"\"\"additional hidden tests\"\"\"\n"
   ]
  },
  {
   "cell_type": "code",
   "execution_count": 83,
   "metadata": {
    "deletable": false,
    "editable": false,
    "nbgrader": {
     "cell_type": "code",
     "checksum": "76f8e20dfdb3ad966c646ff4e668f18d",
     "grade": true,
     "grade_id": "cell-f84ac2bd09f9c8f6",
     "locked": true,
     "points": 1,
     "schema_version": 3,
     "solution": false,
     "task": false
    }
   },
   "outputs": [
    {
     "data": {
      "text/plain": [
       "'additional hidden tests'"
      ]
     },
     "execution_count": 83,
     "metadata": {},
     "output_type": "execute_result"
    }
   ],
   "source": [
    "\"\"\"additional hidden tests\"\"\"\n"
   ]
  },
  {
   "cell_type": "code",
   "execution_count": 84,
   "metadata": {
    "deletable": false,
    "editable": false,
    "nbgrader": {
     "cell_type": "code",
     "checksum": "44efcc1e4b284ba1bcf97651ef388da9",
     "grade": true,
     "grade_id": "cell-cedcecd4c26dc297",
     "locked": true,
     "points": 1,
     "schema_version": 3,
     "solution": false,
     "task": false
    }
   },
   "outputs": [
    {
     "data": {
      "text/plain": [
       "'additional hidden tests'"
      ]
     },
     "execution_count": 84,
     "metadata": {},
     "output_type": "execute_result"
    }
   ],
   "source": [
    "\"\"\"additional hidden tests\"\"\"\n"
   ]
  },
  {
   "cell_type": "markdown",
   "metadata": {
    "deletable": false,
    "editable": false,
    "nbgrader": {
     "cell_type": "markdown",
     "checksum": "4d648823e50e178ceeca62c7b0bc252d",
     "grade": false,
     "grade_id": "cell-3a992002dfacaf53",
     "locked": true,
     "schema_version": 3,
     "solution": false,
     "task": false
    },
    "tags": []
   },
   "source": [
    "## Apply \n",
    "\n",
    "In this section we will try using the `apply` method, see [help here](https://pandas.pydata.org/pandas-docs/stable/reference/api/pandas.DataFrame.apply.html). \n",
    "\n",
    "\n",
    "To summarize, we can use the `apply` function to a dataframe `df`\n",
    "\n",
    "```\n",
    "df = pd.DataFrame([[4, 9]] * 3, columns=['A', 'B'])\n",
    "\n",
    "df\n",
    "   A  B\n",
    "0  4  9\n",
    "1  4  9\n",
    "2  4  9\n",
    "```\n",
    "\n",
    "--------------------- \n",
    "\n",
    "We can then apply and function to the column values, for instance we can take the square root of all values:\n",
    "\n",
    "```\n",
    "import numpy as np\n",
    "df.apply(np.sqrt)\n",
    "     A    B\n",
    "0  2.0  3.0\n",
    "1  2.0  3.0\n",
    "2  2.0  3.0\n",
    "```\n",
    "or we can apply to a certain column by isolating it and store that output in a new column called C:\n",
    "```\n",
    "df['C'] = df['B'].apply(np.sqrt)\n",
    "print(df)\n",
    "   A  B    C\n",
    "0  4  9  3.0\n",
    "1  4  9  3.0\n",
    "2  4  9  3.0\n",
    "```\n",
    "We can also apply our own functions in the same way \n",
    "```\n",
    "from math import sqrt\n",
    "\n",
    "# define a function to apply across row values\n",
    "def my_sqr(x):\n",
    "    return x**2\n",
    "\n",
    "df['C'] = df['B'].apply(my_sqr)\n",
    "```\n"
   ]
  },
  {
   "cell_type": "markdown",
   "metadata": {
    "deletable": false,
    "editable": false,
    "nbgrader": {
     "cell_type": "markdown",
     "checksum": "cceb7a91be2d2cf6d2cd730d326127c1",
     "grade": false,
     "grade_id": "cell-51c781bde0d31306",
     "locked": true,
     "schema_version": 3,
     "solution": false,
     "task": false
    }
   },
   "source": [
    "## Part F (5 points)\n",
    "In this section, use the apply and `my_square` functions to store the squared distance of `euc_dc` in a new columns called `euc_dc2`."
   ]
  },
  {
   "cell_type": "code",
   "execution_count": 85,
   "metadata": {
    "deletable": false,
    "nbgrader": {
     "cell_type": "code",
     "checksum": "9e50e105658d9d81fa7e369a5622e7c0",
     "grade": false,
     "grade_id": "cell-b42f3393d743555c",
     "locked": false,
     "schema_version": 3,
     "solution": true,
     "task": false
    }
   },
   "outputs": [
    {
     "name": "stdout",
     "output_type": "stream",
     "text": [
      "            City        Lat        Lon  euc_dc     euc_dc2\n",
      "0  Washington DC  38.907192 -77.036873   0.000    0.000000\n",
      "1       New York  40.712776 -74.005974   3.528   12.446784\n",
      "2         Boston  42.360081 -71.058884   6.904   47.665216\n",
      "3        Chicago  41.878113 -87.629799  11.002  121.044004\n"
     ]
    }
   ],
   "source": [
    "def my_square(x):\n",
    "    return x**2\n",
    "\n",
    "# create placeholder for the euclidean distance measure\n",
    "#euc_city['euc_dc2'] = np.nan\n",
    "# YOUR CODE HERE\n",
    "\n",
    "euc_city['euc_dc2'] = euc_city['euc_dc'].apply(my_square)\n",
    "\n",
    "print(euc_city)"
   ]
  },
  {
   "cell_type": "code",
   "execution_count": 86,
   "metadata": {
    "deletable": false,
    "editable": false,
    "nbgrader": {
     "cell_type": "code",
     "checksum": "42b1b3f19c7cc9b0a00e308d64ef79d9",
     "grade": false,
     "grade_id": "cell-b4614ed720185272",
     "locked": true,
     "schema_version": 3,
     "solution": false,
     "task": false
    }
   },
   "outputs": [],
   "source": [
    "\"\"\"Run the following: you should get no errors\"\"\"\n",
    "\n",
    "try:\n",
    "    assert euc_city.columns.to_list() == ['City', 'Lat', 'Lon', 'euc_dc','euc_dc2']\n",
    "except AssertionError:\n",
    "    raise AssertionError(\"You should now have only the columns 'City', 'Lat', 'Lon', 'euc_dc','euc_dc2' \")"
   ]
  },
  {
   "cell_type": "code",
   "execution_count": 87,
   "metadata": {
    "deletable": false,
    "editable": false,
    "nbgrader": {
     "cell_type": "code",
     "checksum": "edebe9235b8ab7ed853a772d2eba068b",
     "grade": false,
     "grade_id": "cell-f93dafe8cbcf36df",
     "locked": true,
     "schema_version": 3,
     "solution": false,
     "task": false
    }
   },
   "outputs": [],
   "source": [
    "try:\n",
    "    assert euc_city.loc[0,'euc_dc2'] == 0.0\n",
    "except AssertionError:\n",
    "    raise AssertionError(\"DC should be 0.0 degrees away from itself\")"
   ]
  },
  {
   "cell_type": "code",
   "execution_count": 88,
   "metadata": {
    "deletable": false,
    "editable": false,
    "nbgrader": {
     "cell_type": "code",
     "checksum": "33c8a01c1ccce44cdf4143931b49d268",
     "grade": true,
     "grade_id": "cell-ab15fa9d3a5fa7bb",
     "locked": true,
     "points": 1,
     "schema_version": 3,
     "solution": false,
     "task": false
    }
   },
   "outputs": [
    {
     "data": {
      "text/plain": [
       "'additional hidden tests'"
      ]
     },
     "execution_count": 88,
     "metadata": {},
     "output_type": "execute_result"
    }
   ],
   "source": [
    "\"\"\"additional hidden tests\"\"\""
   ]
  },
  {
   "cell_type": "code",
   "execution_count": 89,
   "metadata": {
    "deletable": false,
    "editable": false,
    "nbgrader": {
     "cell_type": "code",
     "checksum": "be86307949c7f1325996974ffac376e9",
     "grade": true,
     "grade_id": "cell-f988210ce29b7cb9",
     "locked": true,
     "points": 2,
     "schema_version": 3,
     "solution": false,
     "task": false
    }
   },
   "outputs": [
    {
     "data": {
      "text/plain": [
       "'additional hidden tests'"
      ]
     },
     "execution_count": 89,
     "metadata": {},
     "output_type": "execute_result"
    }
   ],
   "source": [
    "\"\"\"additional hidden tests\"\"\""
   ]
  },
  {
   "cell_type": "code",
   "execution_count": 90,
   "metadata": {
    "deletable": false,
    "editable": false,
    "nbgrader": {
     "cell_type": "code",
     "checksum": "e0cd75c630cb0272e59019544760829c",
     "grade": true,
     "grade_id": "cell-cbd83afad750b288",
     "locked": true,
     "points": 2,
     "schema_version": 3,
     "solution": false,
     "task": false
    }
   },
   "outputs": [
    {
     "data": {
      "text/plain": [
       "'additional hidden tests'"
      ]
     },
     "execution_count": 90,
     "metadata": {},
     "output_type": "execute_result"
    }
   ],
   "source": [
    "\"\"\"additional hidden tests\"\"\""
   ]
  },
  {
   "cell_type": "markdown",
   "metadata": {
    "deletable": false,
    "editable": false,
    "nbgrader": {
     "cell_type": "markdown",
     "checksum": "4d91cad8cc0c763964a64d9152ee8a0a",
     "grade": false,
     "grade_id": "cell-98438c5b76de6498",
     "locked": true,
     "schema_version": 3,
     "solution": false,
     "task": false
    },
    "tags": []
   },
   "source": [
    "## Part G (2 points)\n",
    "\n",
    "We are doing some terrible things above...\n",
    "\n",
    "Describe in your own words why euclidean distance should never be used with latitude and longitude."
   ]
  },
  {
   "cell_type": "markdown",
   "metadata": {},
   "source": [
    "euclidean distance should not be used with longitude and latitude because the earth is not flat and using coordinates doesn't give accurate distances between points. "
   ]
  },
  {
   "cell_type": "markdown",
   "metadata": {
    "deletable": false,
    "nbgrader": {
     "cell_type": "markdown",
     "checksum": "36454b3960c07c654b3a7ae6b218d21b",
     "grade": true,
     "grade_id": "cell-597870504290c96b",
     "locked": false,
     "points": 2,
     "schema_version": 3,
     "solution": true,
     "task": false
    },
    "tags": []
   },
   "source": [
    "YOUR ANSWER HERE"
   ]
  }
 ],
 "metadata": {
  "kernelspec": {
   "display_name": "gc_en",
   "language": "python",
   "name": "python3"
  },
  "language_info": {
   "codemirror_mode": {
    "name": "ipython",
    "version": 3
   },
   "file_extension": ".py",
   "mimetype": "text/x-python",
   "name": "python",
   "nbconvert_exporter": "python",
   "pygments_lexer": "ipython3",
   "version": "3.10.13"
  }
 },
 "nbformat": 4,
 "nbformat_minor": 4
}
